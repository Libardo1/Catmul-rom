{
 "cells": [
  {
   "cell_type": "code",
   "execution_count": 51,
   "metadata": {
    "collapsed": false
   },
   "outputs": [
    {
     "name": "stdout",
     "output_type": "stream",
     "text": [
      "0 0.31622776601683794 177.72254106968708 348.473822177619\n"
     ]
    },
    {
     "data": {
      "image/png": "[encoded data removed]",
      "text/plain": [
       "<matplotlib.figure.Figure at 0x105702b00>"
      ]
     },
     "metadata": {},
     "output_type": "display_data"
    }
   ],
   "source": [
    "%matplotlib inline\n",
    "import matplotlib.pyplot as plt\n",
    "\n",
    "def spline( t, t0, t1, t2, t3, p0, p1, p2, p3 ):\n",
    "    \n",
    "    a1_x = (t1-t)/(t1-t0)*p0[0] + (t-t0)/(t1-t0)*p1[0]\n",
    "    a2_x = (t2-t)/(t2-t1)*p1[0] + (t-t1)/(t2-t1)*p2[0]\n",
    "    a3_x = (t3-t)/(t3-t2)*p2[0] + (t-t2)/(t3-t2)*p3[0]\n",
    "\n",
    "    b1_x = (t2-t)/(t2-t0)*a1_x + (t-t0)/(t2-t0)*a2_x\n",
    "    b2_x = (t3-t)/(t3-t1)*a2_x + (t-t1)/(t3-t1)*a3_x\n",
    "\n",
    "    c_x  = (t2-t)/(t2-t1)*b1_x + (t-t1)/(t2-t1)*b2_x\n",
    "    \n",
    "    a1_y = (t1-t)/(t1-t0)*p0[1] + (t-t0)/(t1-t0)*p1[1]\n",
    "    a2_y = (t2-t)/(t2-t1)*p1[1] + (t-t1)/(t2-t1)*p2[1]\n",
    "    a3_y = (t3-t)/(t3-t2)*p2[1] + (t-t2)/(t3-t2)*p3[1]\n",
    "\n",
    "    b1_y = (t2-t)/(t2-t0)*a1_y + (t-t0)/(t2-t0)*a2_y\n",
    "    b2_y = (t3-t)/(t3-t1)*a2_y + (t-t1)/(t3-t1)*a3_y\n",
    "\n",
    "    c_y  = (t2-t)/(t2-t1)*b1_y + (t-t1)/(t2-t1)*b2_y\n",
    "    \n",
    "    return c_x, c_y\n",
    "\n",
    "\n",
    "def plot_curve( p, n_step=25, alpha=0 ):\n",
    "    \n",
    "    curve = list()\n",
    "    \n",
    "    # first curve\n",
    "    t0 = 0\n",
    "    t1 = (0.1)**alpha + t0 # for numerical stability (divide-by-zero)\n",
    "    t2 = ((p[1][0]-p[0][0])**2 + (p[1][1]-p[0][1])**2)**alpha + t1\n",
    "    t3 = ((p[2][0]-p[1][0])**2 + (p[2][1]-p[1][1])**2)**alpha + t2\n",
    "    step = (t2-t1) / n_step\n",
    "                \n",
    "    for j in range(n_step):\n",
    "        cx, cy = spline(t1+j*step, t0, t1, t2, t3, p[0], p[0], p[1], p[2])\n",
    "        curve.append([cx, cy])\n",
    "    \n",
    "    # middle curve\n",
    "    for i in range(len(p)-3):\n",
    "        t0 = 0\n",
    "        t1 = ((p[i+1][0]-p[i][0])**2   + (p[i+1][1]-p[i][1])**2)**alpha + t0\n",
    "        t2 = ((p[i+2][0]-p[i+1][0])**2 + (p[i+2][1]-p[i+1][1])**2)**alpha + t1\n",
    "        t3 = ((p[i+3][0]-p[i+2][0])**2 + (p[i+3][1]-p[i+2][1])**2)**alpha + t2\n",
    "        step = (t2-t1) / n_step\n",
    "        \n",
    "        for j in range(n_step):\n",
    "            cx, cy = spline(t1+j*step, t0, t1, t2, t3, p[i], p[i+1], p[i+2], p[i+3])\n",
    "            curve.append([cx, cy])\n",
    "            \n",
    "    # last curve\n",
    "    t0 = 0\n",
    "    t1 = ((p[-2][0]-p[-3][0])**2 + (p[-2][1]-p[-3][1])**2)**alpha + t0\n",
    "    t2 = ((p[-1][0]-p[-2][0])**2 + (p[-1][1]-p[-2][1])**2)**alpha + t1\n",
    "    t3 = (0.1)**alpha + t2 # for numerical stability (divide-by-zero)\n",
    "    step = (t2-t1) / n_step\n",
    "    \n",
    "    for j in range(n_step):\n",
    "        cx, cy = spline(t1+j*step, t0, t1, t2, t3, p[-3], p[-2], p[-1], p[-1])\n",
    "        curve.append([cx, cy])\n",
    "\n",
    "    return curve\n",
    "\n",
    "\n",
    "pts = [ [281, 944], [269, 1121], [285, 1291], [330, 1458], [398, 1566], \n",
    "        [484, 1659], [583, 1737], [728, 1769], [873, 1737], [966, 1659],\n",
    "        [1041, 1560], [1106, 1447], [1153, 1282], [1175, 1112], [1170, 936]]\n",
    "cv = plot_curve(pts, 3, alpha=0.5)\n",
    "\n",
    "x, y = zip(*cv)\n",
    "px, py = zip(*pts)\n",
    "\n",
    "plt.plot(x, y, color=\"blue\", markersize=3)\n",
    "#plt.plot(x, y, \"or\", color=\"blue\", markersize=3)\n",
    "plt.plot(px, py, \"or\", markersize=3)\n",
    "plt.show()"
   ]
  },
  {
   "cell_type": "code",
   "execution_count": null,
   "metadata": {
    "collapsed": true
   },
   "outputs": [],
   "source": []
  }
 ],
 "metadata": {
  "kernelspec": {
   "display_name": "Python 3",
   "language": "python",
   "name": "python3"
  },
  "language_info": {
   "codemirror_mode": {
    "name": "ipython",
    "version": 3
   },
   "file_extension": ".py",
   "mimetype": "text/x-python",
   "name": "python",
   "nbconvert_exporter": "python",
   "pygments_lexer": "ipython3",
   "version": "3.5.0"
  }
 },
 "nbformat": 4,
 "nbformat_minor": 0
}
